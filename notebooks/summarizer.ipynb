{
 "cells": [
  {
   "cell_type": "markdown",
   "metadata": {},
   "source": [
    "# AI Document Summarizer Notebook"
   ]
  },
  {
   "cell_type": "code",
   "execution_count": null,
   "metadata": {},
   "outputs": [],
   "source": [
    "!pip install transformers torch"
   ]
  },
  {
   "cell_type": "code",
   "execution_count": null,
   "metadata": {},
   "outputs": [],
   "source": [
    "from transformers import pipeline\n",
    "\n",
    "def load_summarizer_model():\n",
    "    \"\"\"Loads a pre-trained summarization model.\"\"\"\n",
    "    # Using 'sshleifer/distilbart-cnn-12-6' for general summarization\n",
    "    # You can explore other models like 'facebook/bart-large-cnn' for potentially better quality\n",
    "    summarizer = pipeline(\"summarization\", model=\"sshleifer/distilbart-cnn-12-6\")\n",
    "    return summarizer\n",
    "\n",
    "def summarize_document(text, max_length=150, min_length=30):\n",
    "    \"\"\"Summarizes the given text using the loaded model.\"\"\"\n",
    "    summarizer = load_summarizer_model()\n",
    "    summary = summarizer(text, max_length=max_length, min_length=min_length, do_sample=False)\n",
    "    return summary[0]['summary_text']\n",
    "\n",
    "print(\"Summarizer functions loaded.\")"
   ]
  },
  {
   "cell_type": "code",
   "execution_count": null,
   "metadata": {},
   "outputs": [],
   "source": [
    "# Example Usage:\n",
    "long_text = \"\"\"Your very long document text goes here. This could be an article, a research paper, or any other text you want to summarize. The more content you provide, the more effective the summarizer will be at extracting key information. For instance, artificial intelligence (AI) is intelligence demonstrated by machines, unlike the natural intelligence displayed by humans and animals. Leading AI textbooks define the field as the study of \"intelligent agents\": any device that perceives its environment and takes actions that maximize its chance of successfully achieving its goals. Colloquially, the term \"artificial intelligence\" is often used to describe machines (or computers) that mimic \"cognitive\" functions that humans associate with the human mind, such as \"learning\" and \"problem solving\".\"\"\"\n",
    "\n",
    "summary = summarize_document(long_text)\n",
    "print(\"Original Text Length:\", len(long_text.split()))\n",
    "print(\"\\nSummary:\")\n",
    "print(summary)\n",
    "print(\"\\nSummary Length:\", len(summary.split()))"
   ]
  }
 ],
 "metadata": {
  "kernelspec": {
   "display_name": "Python 3",
   "language": "python",
   "name": "python3"
  },
  "language_info": {
   "codemirror_mode": {
    "name": "ipython",
    "version": 3
   },
   "file_extension": ".py",
   "mimetype": "text/x-python",
   "name": "python",
   "nbconvert_exporter": "python",
   "pygments_lexer": "ipython3",
   "version": "3.13.5"
  }
 },
 "nbformat": 4,
 "nbformat_minor": 4
}
